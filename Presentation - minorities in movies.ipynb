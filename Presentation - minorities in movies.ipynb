{
 "cells": [
  {
   "cell_type": "markdown",
   "metadata": {
    "slideshow": {
     "slide_type": "slide"
    }
   },
   "source": [
    "- Pull data from at least 2/3 sources (1 data source per team member).\n",
    "- Create a database on your current AWS instance to hold your data\n",
    "- Develop an ETL pipeline for your data\n",
    "- **Generate descriptive statistics to compare the success of different films**\n",
    "- A slideshow presentation that entails the following:\n",
    "- The purpose of your analysis and why it matters\n",
    "- **4 well labeled visualizations created using Matplotlib/Seaborn**\n",
    "- **2 meaningful summary tables**\n",
    "- Give at least two actionable insights\n",
    "    - What type of films should they be looking to produce? \n",
    "    - What should the budget requirements be? \n",
    "    - Should they recruit certain actors for their films?)"
   ]
  },
  {
   "cell_type": "markdown",
   "metadata": {
    "slideshow": {
     "slide_type": "slide"
    }
   },
   "source": [
    "The call for diversity in film has been growing louder in the US. There has been increased backlash against films that feature white, A-List actors in roles that are portray non-white characters - as such Scarlet Johansson  in Ghost in the Shell, a story based in Japan. Anecdotally, this seems to be bad for business. Casting directors defend their decisions by arguing that the probability of box office failure increases without A list star power. \n",
    "\n",
    "However, the success of films that have majority non-white casts such as the recent live-action Aladdin and Crazy Rich Asians begs the question whether it is still true (or was ever true) that non-white, non-A-List actors cannot draw in audiences. \n",
    "\n",
    "The following analysis hopes to inform Microsoft’s casting decisions as Microsoft embarks on their new business venture in movie production. As you will see, ——————-\n",
    "\n"
   ]
  },
  {
   "cell_type": "markdown",
   "metadata": {
    "slideshow": {
     "slide_type": "slide"
    }
   },
   "source": [
    "\n",
    "## Data Sources\n",
    "We obtained our data from the following two sources:\n",
    "- **TheMovieDB.org**\n",
    "    - Data sourced via API\n",
    "    - We sourced the 360 most “popular” (as defined by the MovieDB) movies released in the past 8 years (2018-2010). Doing so helped us limit the data quantity while also obtaining both movies that were blockbusters as well as not-so-popular\n",
    "    - We filtered on movies produced in the US with the main, spoken language as English\n",
    "    - This left us with —- movies per year, on average add graph\n",
    "    - We then excluded any movies for which The MovieDB did not provide revenue and/or budget figures\n",
    "    - This left us with —- movies per year, on average *add graph*\n",
    "    - From each movie we obtained the top 5 billed actors\n",
    "- **EthnicCelebs.com**\n",
    "    - Data sourced via web scrapping\n",
    "    - Out of the x number of unique celebrities acting in the X number of films, EthnicCelebs.com had ethnicity information on X number of them (%)\n",
    "    - Celebrities that did not have a page on EthnicCelebs.com were excluded from this analysis due to time contraints\n",
    "\n",
    "\n",
    "\n",
    "\n"
   ]
  },
  {
   "cell_type": "code",
   "execution_count": null,
   "metadata": {
    "slideshow": {
     "slide_type": "slide"
    }
   },
   "outputs": [],
   "source": []
  },
  {
   "cell_type": "markdown",
   "metadata": {
    "slideshow": {
     "slide_type": "slide"
    }
   },
   "source": [
    "## Data Cleaning\n",
    "- Ethnicities were provided as a list, sometimes with percentages/fractions of that celebrity’s overall ethnicity (and sometimes without)\n",
    "- Anytime an ethnicity was listed as “possibly”, “distant”, or was a very low fraction of the total (e.g. 1/512th), we removed this ethnicity component from the celebrity\n",
    "- We identified each “ethnicity component” as either “white” or “non-white” for simplicity, sine there were X number of unique ethnicity components\n",
    "    - E.g. English, Irish, Polish and Maltese mapped to “white”\n",
    "    - E.g. Puerto Rican, African-American, Indian, and Filipino mapped to “non-white”\n",
    "- If an actor had even one “non-white” ethnic component, we labeled the actor   “non-white” for simplicity (without taking the % into account, even if provided)"
   ]
  },
  {
   "cell_type": "markdown",
   "metadata": {
    "slideshow": {
     "slide_type": "slide"
    }
   },
   "source": [
    "## Next Steps\n",
    "- Obtain ethnicities for actors that did not have their ethnicity listed on EthnicCelebs.com by scraping mother/father birthplaces from that actor’s Wikipedia \n",
    "- Obtain revenue and budget information missing from TheMovieDB.org via web scrapping other websites like BoxOfficeMojo (if available)\n",
    "- Refine classifications beyond “white” and “non-white”\n",
    "- Incorporate percentages of ethnic components in deciding if an actor should truly be identified as “non-white” (e.g. Billy —- being 1/32nd Indian"
   ]
  },
  {
   "cell_type": "code",
   "execution_count": null,
   "metadata": {},
   "outputs": [],
   "source": []
  }
 ],
 "metadata": {
  "celltoolbar": "Slideshow",
  "kernelspec": {
   "display_name": "Python 3",
   "language": "python",
   "name": "python3"
  },
  "language_info": {
   "codemirror_mode": {
    "name": "ipython",
    "version": 3
   },
   "file_extension": ".py",
   "mimetype": "text/x-python",
   "name": "python",
   "nbconvert_exporter": "python",
   "pygments_lexer": "ipython3",
   "version": "3.7.3"
  }
 },
 "nbformat": 4,
 "nbformat_minor": 2
}
