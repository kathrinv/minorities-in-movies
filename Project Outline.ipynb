{
 "cells": [
  {
   "cell_type": "markdown",
   "metadata": {},
   "source": [
    "**Movie attributes**\n",
    "\n",
    "https://developers.themoviedb.org/3/movies/get-movie-details\n",
    "1. box office gross revenue (Int'l + US) (API: movie details - 'revenue')\n",
    "    - international gross\n",
    "    - US gross\n",
    "2. Movie name(API: movie details - 'original_title')\n",
    "3. Budget (API: movie details - 'budget') \n",
    "4. IMDB number (or any other unique movie ID) (API: movie details - 'id' or 'imdb_id)\n",
    "5. Release Date (year) (API: movie details - 'release_date') \n",
    ". Popularity (API: movie details - 'popularity') \n",
    "6. Number of theaters (or how widespread release)\n",
    "7. Country of Release (US only)\n",
    "8. Genre(s)\n",
    "9. Actors/Actresses\n",
    "    - Separate table (Join table)\n",
    "10. Reviews (time permitting)\n",
    "11. Awards (time permitting)\n",
    "\n",
    "**Join Table**\n",
    "Use /movie/{movie_id}/credits API\n",
    "https://developers.themoviedb.org/3/movies/get-movie-credits\n",
    "1. Movie ID\n",
    "2. Actor/Actress name or ID\n",
    "\n",
    "**Movie Actors/Actresses**\n",
    "1. Name \n",
    "2. Ethnicity - web scrape https://ethnicelebs.com/\n",
    "3. A-list or not (how to define this?)\n",
    "4. Awards "
   ]
  },
  {
   "cell_type": "markdown",
   "metadata": {},
   "source": [
    "## API call to obtain list of most popular movies by Release Year"
   ]
  },
  {
   "cell_type": "code",
   "execution_count": 1,
   "metadata": {},
   "outputs": [],
   "source": [
    "import config"
   ]
  },
  {
   "cell_type": "code",
   "execution_count": 4,
   "metadata": {},
   "outputs": [],
   "source": [
    "api_url = 'https://api.themoviedb.org/3/discover/movie'"
   ]
  },
  {
   "cell_type": "code",
   "execution_count": 5,
   "metadata": {},
   "outputs": [],
   "source": [
    "api_filter = '&primary_release_year=2018&sort_by=popularity.desc'"
   ]
  },
  {
   "cell_type": "code",
   "execution_count": 6,
   "metadata": {},
   "outputs": [],
   "source": [
    "api_call = api_url + config.api_key + api_filter"
   ]
  },
  {
   "cell_type": "code",
   "execution_count": 7,
   "metadata": {},
   "outputs": [],
   "source": [
    "import requests"
   ]
  },
  {
   "cell_type": "code",
   "execution_count": 8,
   "metadata": {},
   "outputs": [],
   "source": [
    "response = requests.get(api_call)"
   ]
  },
  {
   "cell_type": "code",
   "execution_count": 9,
   "metadata": {},
   "outputs": [
    {
     "data": {
      "text/plain": [
       "200"
      ]
     },
     "execution_count": 9,
     "metadata": {},
     "output_type": "execute_result"
    }
   ],
   "source": [
    "response.status_code"
   ]
  },
  {
   "cell_type": "code",
   "execution_count": 10,
   "metadata": {},
   "outputs": [],
   "source": [
    "import json"
   ]
  },
  {
   "cell_type": "code",
   "execution_count": 11,
   "metadata": {},
   "outputs": [],
   "source": [
    "result = response.json()"
   ]
  },
  {
   "cell_type": "code",
   "execution_count": 12,
   "metadata": {},
   "outputs": [
    {
     "data": {
      "text/plain": [
       "{'page': 1,\n",
       " 'total_results': 10000,\n",
       " 'total_pages': 500,\n",
       " 'results': [{'popularity': 261.026,\n",
       "   'vote_count': 512,\n",
       "   'video': False,\n",
       "   'poster_path': '/a4BfxRK8dBgbQqbRxPs8kmLd8LG.jpg',\n",
       "   'id': 429203,\n",
       "   'adult': False,\n",
       "   'backdrop_path': '/6X2YjjYcs8XyZRDmJAHNDlls7L4.jpg',\n",
       "   'original_language': 'en',\n",
       "   'original_title': 'The Old Man & the Gun',\n",
       "   'genre_ids': [35, 80, 18],\n",
       "   'title': 'The Old Man & the Gun',\n",
       "   'vote_average': 6.4,\n",
       "   'overview': 'The true story of Forrest Tucker, from his audacious escape from San Quentin at the age of 70 to an unprecedented string of heists that confounded authorities and enchanted the public. Wrapped up in the pursuit are a detective, who becomes captivated with Forrest’s commitment to his craft, and a woman, who loves him in spite of his chosen profession.',\n",
       "   'release_date': '2018-09-28'},\n",
       "  {'popularity': 67.449,\n",
       "   'vote_count': 15208,\n",
       "   'video': False,\n",
       "   'poster_path': '/7WsyChQLEftFiDOVTGkv3hFpyyt.jpg',\n",
       "   'id': 299536,\n",
       "   'adult': False,\n",
       "   'backdrop_path': '/bOGkgRGdhrBYJSLpXaxhXVstddV.jpg',\n",
       "   'original_language': 'en',\n",
       "   'original_title': 'Avengers: Infinity War',\n",
       "   'genre_ids': [28, 12, 878],\n",
       "   'title': 'Avengers: Infinity War',\n",
       "   'vote_average': 8.3,\n",
       "   'overview': 'As the Avengers and their allies have continued to protect the world from threats too large for any one hero to handle, a new danger has emerged from the cosmic shadows: Thanos. A despot of intergalactic infamy, his goal is to collect all six Infinity Stones, artifacts of unimaginable power, and use them to inflict his twisted will on all of reality. Everything the Avengers have fought for has led up to this moment - the fate of Earth and existence itself has never been more uncertain.',\n",
       "   'release_date': '2018-04-27'},\n",
       "  {'popularity': 49.565,\n",
       "   'vote_count': 5130,\n",
       "   'video': False,\n",
       "   'poster_path': '/iiZZdoQBEYBv6id8su7ImL0oCbD.jpg',\n",
       "   'id': 324857,\n",
       "   'adult': False,\n",
       "   'backdrop_path': '/uUiId6cG32JSRI6RyBQSvQtLjz2.jpg',\n",
       "   'original_language': 'en',\n",
       "   'original_title': 'Spider-Man: Into the Spider-Verse',\n",
       "   'genre_ids': [28, 12, 16, 35, 878],\n",
       "   'title': 'Spider-Man: Into the Spider-Verse',\n",
       "   'vote_average': 8.4,\n",
       "   'overview': 'Miles Morales is juggling his life between being a high school student and being a spider-man. When Wilson \"Kingpin\" Fisk uses a super collider, others from across the Spider-Verse are transported to this dimension.',\n",
       "   'release_date': '2018-12-14'},\n",
       "  {'popularity': 40.387,\n",
       "   'vote_count': 6986,\n",
       "   'video': False,\n",
       "   'poster_path': '/eivQmS3wqzqnQWILHLc4FsEfcXP.jpg',\n",
       "   'id': 363088,\n",
       "   'adult': False,\n",
       "   'backdrop_path': '/6P3c80EOm7BodndGBUAJHHsHKrp.jpg',\n",
       "   'original_language': 'en',\n",
       "   'original_title': 'Ant-Man and the Wasp',\n",
       "   'genre_ids': [28, 12, 35, 878],\n",
       "   'title': 'Ant-Man and the Wasp',\n",
       "   'vote_average': 7,\n",
       "   'overview': 'Just when his time under house arrest is about to end, Scott Lang once again puts his freedom at risk to help Hope van Dyne and Dr. Hank Pym dive into the quantum realm and try to accomplish, against time and any chance of success, a very dangerous rescue mission.',\n",
       "   'release_date': '2018-07-06'},\n",
       "  {'popularity': 36.15,\n",
       "   'vote_count': 3206,\n",
       "   'video': False,\n",
       "   'poster_path': '/qEnH5meR381iMpmCumAIMswcQw2.jpg',\n",
       "   'id': 404368,\n",
       "   'adult': False,\n",
       "   'backdrop_path': '/88poTBTafMXaz73vYi3c74g0y2k.jpg',\n",
       "   'original_language': 'en',\n",
       "   'original_title': 'Ralph Breaks the Internet',\n",
       "   'genre_ids': [12, 16, 35, 10751],\n",
       "   'title': 'Ralph Breaks the Internet',\n",
       "   'vote_average': 7.2,\n",
       "   'overview': 'Video game bad guy Ralph and fellow misfit Vanellope von Schweetz must risk it all by traveling to the World Wide Web in search of a replacement part to save Vanellope\\'s video game, \"Sugar Rush.\" In way over their heads, Ralph and Vanellope rely on the citizens of the internet -- the netizens -- to help navigate their way, including an entrepreneur named Yesss, who is the head algorithm and the heart and soul of trend-making site BuzzzTube.',\n",
       "   'release_date': '2018-11-21'},\n",
       "  {'popularity': 39.031,\n",
       "   'vote_count': 13223,\n",
       "   'video': False,\n",
       "   'poster_path': '/uxzzxijgPIY7slzFvMotPv8wjKA.jpg',\n",
       "   'id': 284054,\n",
       "   'adult': False,\n",
       "   'backdrop_path': '/6ELJEzQJ3Y45HczvreC3dg0GV5R.jpg',\n",
       "   'original_language': 'en',\n",
       "   'original_title': 'Black Panther',\n",
       "   'genre_ids': [28, 12, 14, 878],\n",
       "   'title': 'Black Panther',\n",
       "   'vote_average': 7.4,\n",
       "   'overview': \"King T'Challa returns home from America to the reclusive, technologically advanced African nation of Wakanda to serve as his country's new leader. However, T'Challa soon finds that he is challenged for the throne by factions within his own country as well as without. Using powers reserved to Wakandan kings, T'Challa assumes the Black Panther mantel to join with girlfriend Nakia, the queen-mother, his princess-kid sister, members of the Dora Milaje (the Wakandan 'special forces') and an American secret agent, to prevent Wakanda from being dragged into a world war.\",\n",
       "   'release_date': '2018-02-16'},\n",
       "  {'popularity': 39.787,\n",
       "   'vote_count': 9507,\n",
       "   'video': False,\n",
       "   'poster_path': '/to0spRl1CMDvyUbOnbb4fTk3VAd.jpg',\n",
       "   'id': 383498,\n",
       "   'adult': False,\n",
       "   'backdrop_path': '/3P52oz9HPQWxcwHOwxtyrVV1LKi.jpg',\n",
       "   'original_language': 'en',\n",
       "   'original_title': 'Deadpool 2',\n",
       "   'genre_ids': [28, 12, 35],\n",
       "   'title': 'Deadpool 2',\n",
       "   'vote_average': 7.5,\n",
       "   'overview': \"Wisecracking mercenary Deadpool battles the evil and powerful Cable and other bad guys to save a boy's life.\",\n",
       "   'release_date': '2018-05-10'},\n",
       "  {'popularity': 32.911,\n",
       "   'vote_count': 2834,\n",
       "   'video': False,\n",
       "   'poster_path': '/fw02ONlDhrYjTSZV8XO6hhU3ds3.jpg',\n",
       "   'id': 424783,\n",
       "   'adult': False,\n",
       "   'backdrop_path': '/17nDJQsGVim6oows2TlN98UacbO.jpg',\n",
       "   'original_language': 'en',\n",
       "   'original_title': 'Bumblebee',\n",
       "   'genre_ids': [28, 12, 878],\n",
       "   'title': 'Bumblebee',\n",
       "   'vote_average': 6.5,\n",
       "   'overview': 'On the run in the year 1987, Bumblebee finds refuge in a junkyard in a small Californian beach town. Charlie, on the cusp of turning 18 and trying to find her place in the world, discovers Bumblebee, battle-scarred and broken.  When Charlie revives him, she quickly learns this is no ordinary yellow VW bug.',\n",
       "   'release_date': '2018-12-21'},\n",
       "  {'popularity': 39.739,\n",
       "   'vote_count': 7074,\n",
       "   'video': False,\n",
       "   'poster_path': '/2uNW4WbgBXL25BAbXGLnLqX71Sw.jpg',\n",
       "   'id': 335983,\n",
       "   'adult': False,\n",
       "   'backdrop_path': '/VuukZLgaCrho2Ar8Scl9HtV3yD.jpg',\n",
       "   'original_language': 'en',\n",
       "   'original_title': 'Venom',\n",
       "   'genre_ids': [28, 878],\n",
       "   'title': 'Venom',\n",
       "   'vote_average': 6.6,\n",
       "   'overview': 'Investigative journalist Eddie Brock attempts a comeback following a scandal, but accidentally becomes the host of Venom, a violent, super powerful alien symbiote. Soon, he must rely on his newfound powers to protect the world from a shadowy organization looking for a symbiote of their own.',\n",
       "   'release_date': '2018-10-05'},\n",
       "  {'popularity': 27.584,\n",
       "   'vote_count': 595,\n",
       "   'video': False,\n",
       "   'poster_path': '/Aqhl55vpzxNFqVfc2DpedUsR39L.jpg',\n",
       "   'id': 440471,\n",
       "   'adult': False,\n",
       "   'backdrop_path': '/xIAaN3AQqaJiN5RJ0WsmBady8Hq.jpg',\n",
       "   'original_language': 'en',\n",
       "   'original_title': 'Escape Plan 2: Hades',\n",
       "   'genre_ids': [28],\n",
       "   'title': 'Escape Plan 2: Hades',\n",
       "   'vote_average': 4.7,\n",
       "   'overview': \"Ray Breslin manages an elite team of security specialists trained in the art of breaking people out of the world's most impenetrable prisons. When his most trusted operative, Shu Ren, is kidnapped and disappears inside the most elaborate prison ever built, Ray must track him down with the help of some of his former friends.\",\n",
       "   'release_date': '2018-06-29'},\n",
       "  {'popularity': 36.264,\n",
       "   'vote_count': 5468,\n",
       "   'video': False,\n",
       "   'poster_path': '/fMMrl8fD9gRCFJvsx0SuFwkEOop.jpg',\n",
       "   'id': 338952,\n",
       "   'adult': False,\n",
       "   'backdrop_path': '/qrtRKRzoNkf5vemO9tJ2Y4DrHxQ.jpg',\n",
       "   'original_language': 'en',\n",
       "   'original_title': 'Fantastic Beasts: The Crimes of Grindelwald',\n",
       "   'genre_ids': [12, 14, 10751],\n",
       "   'title': 'Fantastic Beasts: The Crimes of Grindelwald',\n",
       "   'vote_average': 6.9,\n",
       "   'overview': 'Gellert Grindelwald has escaped imprisonment and has begun gathering followers to his cause—elevating wizards above all non-magical beings. The only one capable of putting a stop to him is the wizard he once called his closest friend, Albus Dumbledore. However, Dumbledore will need to seek help from the wizard who had thwarted Grindelwald once before, his former student Newt Scamander, who agrees to help, unaware of the dangers that lie ahead. Lines are drawn as love and loyalty are tested, even among the truest friends and family, in an increasingly divided wizarding world.',\n",
       "   'release_date': '2018-11-16'},\n",
       "  {'popularity': 33.002,\n",
       "   'vote_count': 2113,\n",
       "   'video': False,\n",
       "   'poster_path': '/gLhYg9NIvIPKVRTtvzCWnp1qJWG.jpg',\n",
       "   'id': 428078,\n",
       "   'adult': False,\n",
       "   'backdrop_path': '/rm2oMykm5nX6SzXFr7TGHkO6r8Z.jpg',\n",
       "   'original_language': 'en',\n",
       "   'original_title': 'Mortal Engines',\n",
       "   'genre_ids': [12, 14],\n",
       "   'title': 'Mortal Engines',\n",
       "   'vote_average': 6,\n",
       "   'overview': 'Many thousands of years in the future, Earth’s cities roam the globe on huge wheels, devouring each other in a struggle for ever diminishing resources. On one of these massive traction cities, the old London, Tom Natsworthy has an unexpected encounter with a mysterious young woman from the wastelands who will change the course of his life forever.',\n",
       "   'release_date': '2018-12-14'},\n",
       "  {'popularity': 37.693,\n",
       "   'vote_count': 8616,\n",
       "   'video': False,\n",
       "   'poster_path': '/lHu1wtNaczFPGFDTrjCSzeLPTKN.jpg',\n",
       "   'id': 424694,\n",
       "   'adult': False,\n",
       "   'backdrop_path': '/xcaSYLBhmDzJ6P14bcKe0KTh3QV.jpg',\n",
       "   'original_language': 'en',\n",
       "   'original_title': 'Bohemian Rhapsody',\n",
       "   'genre_ids': [18, 10402],\n",
       "   'title': 'Bohemian Rhapsody',\n",
       "   'vote_average': 8,\n",
       "   'overview': \"Singer Freddie Mercury, guitarist Brian May, drummer Roger Taylor and bass guitarist John Deacon take the music world by storm when they form the rock 'n' roll band Queen in 1970. Hit songs become instant classics. When Mercury's increasingly wild lifestyle starts to spiral out of control, Queen soon faces its greatest challenge yet – finding a way to keep the band together amid the success and excess.\",\n",
       "   'release_date': '2018-11-02'},\n",
       "  {'popularity': 32.792,\n",
       "   'vote_count': 6967,\n",
       "   'video': False,\n",
       "   'poster_path': '/5Kg76ldv7VxeX9YlcQXiowHgdX6.jpg',\n",
       "   'id': 297802,\n",
       "   'adult': False,\n",
       "   'backdrop_path': '/9QusGjxcYvfPD1THg6oW3RLeNn7.jpg',\n",
       "   'original_language': 'en',\n",
       "   'original_title': 'Aquaman',\n",
       "   'genre_ids': [28, 12, 14],\n",
       "   'title': 'Aquaman',\n",
       "   'vote_average': 6.8,\n",
       "   'overview': \"Once home to the most advanced civilization on Earth, Atlantis is now an underwater kingdom ruled by the power-hungry King Orm. With a vast army at his disposal, Orm plans to conquer the remaining oceanic people and then the surface world. Standing in his way is Arthur Curry, Orm's half-human, half-Atlantean brother and true heir to the throne.\",\n",
       "   'release_date': '2018-12-21'},\n",
       "  {'popularity': 39.126,\n",
       "   'vote_count': 6411,\n",
       "   'video': False,\n",
       "   'poster_path': '/c9XxwwhPHdaImA2f1WEfEsbhaFB.jpg',\n",
       "   'id': 351286,\n",
       "   'adult': False,\n",
       "   'backdrop_path': '/3s9O5af2xWKWR5JzP2iJZpZeQQg.jpg',\n",
       "   'original_language': 'en',\n",
       "   'original_title': 'Jurassic World: Fallen Kingdom',\n",
       "   'genre_ids': [28, 12, 878],\n",
       "   'title': 'Jurassic World: Fallen Kingdom',\n",
       "   'vote_average': 6.5,\n",
       "   'overview': 'Three years after the demise of Jurassic World, a volcanic eruption threatens the remaining dinosaurs on the isla Nublar, so Claire Dearing, the former park manager, recruits Owen Grady to help prevent the extinction of the dinosaurs once again.',\n",
       "   'release_date': '2018-06-22'},\n",
       "  {'popularity': 32.162,\n",
       "   'vote_count': 6949,\n",
       "   'video': False,\n",
       "   'poster_path': '/9lFKBtaVIhP7E2Pk0IY1CwTKTMZ.jpg',\n",
       "   'id': 260513,\n",
       "   'adult': False,\n",
       "   'backdrop_path': '/mabuNsGJgRuCTuGqjFkWe1xdu19.jpg',\n",
       "   'original_language': 'en',\n",
       "   'original_title': 'Incredibles 2',\n",
       "   'genre_ids': [28, 12, 16, 10751],\n",
       "   'title': 'Incredibles 2',\n",
       "   'vote_average': 7.6,\n",
       "   'overview': 'Elastigirl springs into action to save the day, while Mr. Incredible faces his greatest challenge yet – taking care of the problems of his three children.',\n",
       "   'release_date': '2018-06-15'},\n",
       "  {'popularity': 32.477,\n",
       "   'vote_count': 6420,\n",
       "   'video': False,\n",
       "   'poster_path': '/wrFpXMNBRj2PBiN4Z5kix51XaIZ.jpg',\n",
       "   'id': 332562,\n",
       "   'adult': False,\n",
       "   'backdrop_path': '/wqtaHWOEZ3rXDJ8c6ZZShulbo18.jpg',\n",
       "   'original_language': 'en',\n",
       "   'original_title': 'A Star Is Born',\n",
       "   'genre_ids': [18, 10402, 10749],\n",
       "   'title': 'A Star Is Born',\n",
       "   'vote_average': 7.5,\n",
       "   'overview': \"Seasoned musician Jackson Maine discovers — and falls in love with — struggling artist Ally. She has just about given up on her dream to make it big as a singer — until Jack coaxes her into the spotlight. But even as Ally's career takes off, the personal side of their relationship is breaking down, as Jack fights an ongoing battle with his own internal demons.\",\n",
       "   'release_date': '2018-10-05'},\n",
       "  {'popularity': 28.553,\n",
       "   'vote_count': 4156,\n",
       "   'video': False,\n",
       "   'poster_path': '/AkJQpZp9WoNdj7pLYSj1L0RcMMN.jpg',\n",
       "   'id': 353081,\n",
       "   'adult': False,\n",
       "   'backdrop_path': '/aw4FOsWr2FY373nKSxbpNi3fz4F.jpg',\n",
       "   'original_language': 'en',\n",
       "   'original_title': 'Mission: Impossible - Fallout',\n",
       "   'genre_ids': [28, 12],\n",
       "   'title': 'Mission: Impossible - Fallout',\n",
       "   'vote_average': 7.3,\n",
       "   'overview': 'When an IMF mission ends badly, the world is faced with dire consequences. As Ethan Hunt takes it upon himself to fulfill his original briefing, the CIA begin to question his loyalty and his motives. The IMF team find themselves in a race against time, hunted by assassins while trying to prevent a global catastrophe.',\n",
       "   'release_date': '2018-07-27'},\n",
       "  {'popularity': 36.171,\n",
       "   'vote_count': 1430,\n",
       "   'video': False,\n",
       "   'poster_path': '/AiRfixFcfTkNbn2A73qVJPlpkUo.jpg',\n",
       "   'id': 375588,\n",
       "   'adult': False,\n",
       "   'backdrop_path': '/axjFiijtxdfK3CD9dMwrdgLwblD.jpg',\n",
       "   'original_language': 'en',\n",
       "   'original_title': 'Robin Hood',\n",
       "   'genre_ids': [28, 12, 53],\n",
       "   'title': 'Robin Hood',\n",
       "   'vote_average': 5.8,\n",
       "   'overview': 'A war-hardened Crusader and his Moorish commander mount an audacious revolt against the corrupt English crown.',\n",
       "   'release_date': '2018-11-21'},\n",
       "  {'popularity': 28.994,\n",
       "   'vote_count': 2405,\n",
       "   'video': False,\n",
       "   'poster_path': '/v5HlmJK9bdeHxN2QhaFP1ivjX3U.jpg',\n",
       "   'id': 268896,\n",
       "   'adult': False,\n",
       "   'backdrop_path': '/6pT73ACl5N1VekdK3wQI8PLfz1E.jpg',\n",
       "   'original_language': 'en',\n",
       "   'original_title': 'Pacific Rim: Uprising',\n",
       "   'genre_ids': [28, 12, 14, 878],\n",
       "   'title': 'Pacific Rim: Uprising',\n",
       "   'vote_average': 5.9,\n",
       "   'overview': 'It has been ten years since The Battle of the Breach and the oceans are still, but restless. Vindicated by the victory at the Breach, the Jaeger program has evolved into the most powerful global defense force in human history. The PPDC now calls upon the best and brightest to rise up and become the next generation of heroes when the Kaiju threat returns.',\n",
       "   'release_date': '2018-03-23'}]}"
      ]
     },
     "execution_count": 12,
     "metadata": {},
     "output_type": "execute_result"
    }
   ],
   "source": [
    "result"
   ]
  },
  {
   "cell_type": "code",
   "execution_count": 13,
   "metadata": {
    "scrolled": true
   },
   "outputs": [
    {
     "data": {
      "text/plain": [
       "dict_keys(['page', 'total_results', 'total_pages', 'results'])"
      ]
     },
     "execution_count": 13,
     "metadata": {},
     "output_type": "execute_result"
    }
   ],
   "source": [
    "result.keys()"
   ]
  },
  {
   "cell_type": "code",
   "execution_count": 14,
   "metadata": {},
   "outputs": [
    {
     "data": {
      "text/plain": [
       "list"
      ]
     },
     "execution_count": 14,
     "metadata": {},
     "output_type": "execute_result"
    }
   ],
   "source": [
    "type(result['results'])"
   ]
  },
  {
   "cell_type": "code",
   "execution_count": 15,
   "metadata": {},
   "outputs": [
    {
     "data": {
      "text/plain": [
       "20"
      ]
     },
     "execution_count": 15,
     "metadata": {},
     "output_type": "execute_result"
    }
   ],
   "source": [
    "len(result['results'])"
   ]
  },
  {
   "cell_type": "code",
   "execution_count": 16,
   "metadata": {},
   "outputs": [
    {
     "data": {
      "text/plain": [
       "{'popularity': 67.449,\n",
       " 'vote_count': 15208,\n",
       " 'video': False,\n",
       " 'poster_path': '/7WsyChQLEftFiDOVTGkv3hFpyyt.jpg',\n",
       " 'id': 299536,\n",
       " 'adult': False,\n",
       " 'backdrop_path': '/bOGkgRGdhrBYJSLpXaxhXVstddV.jpg',\n",
       " 'original_language': 'en',\n",
       " 'original_title': 'Avengers: Infinity War',\n",
       " 'genre_ids': [28, 12, 878],\n",
       " 'title': 'Avengers: Infinity War',\n",
       " 'vote_average': 8.3,\n",
       " 'overview': 'As the Avengers and their allies have continued to protect the world from threats too large for any one hero to handle, a new danger has emerged from the cosmic shadows: Thanos. A despot of intergalactic infamy, his goal is to collect all six Infinity Stones, artifacts of unimaginable power, and use them to inflict his twisted will on all of reality. Everything the Avengers have fought for has led up to this moment - the fate of Earth and existence itself has never been more uncertain.',\n",
       " 'release_date': '2018-04-27'}"
      ]
     },
     "execution_count": 16,
     "metadata": {},
     "output_type": "execute_result"
    }
   ],
   "source": [
    "result['results'][1]"
   ]
  },
  {
   "cell_type": "code",
   "execution_count": 17,
   "metadata": {},
   "outputs": [],
   "source": [
    "movie_ids = []\n",
    "\n",
    "for movie in result['results']:\n",
    "    movie_ids.append(movie['id'])"
   ]
  },
  {
   "cell_type": "code",
   "execution_count": 18,
   "metadata": {},
   "outputs": [
    {
     "data": {
      "text/plain": [
       "[429203,\n",
       " 299536,\n",
       " 324857,\n",
       " 363088,\n",
       " 404368,\n",
       " 284054,\n",
       " 383498,\n",
       " 424783,\n",
       " 335983,\n",
       " 440471,\n",
       " 338952,\n",
       " 428078,\n",
       " 424694,\n",
       " 297802,\n",
       " 351286,\n",
       " 260513,\n",
       " 332562,\n",
       " 353081,\n",
       " 375588,\n",
       " 268896]"
      ]
     },
     "execution_count": 18,
     "metadata": {},
     "output_type": "execute_result"
    }
   ],
   "source": [
    "movie_ids"
   ]
  },
  {
   "cell_type": "code",
   "execution_count": 19,
   "metadata": {},
   "outputs": [],
   "source": [
    "api_url = 'https://api.themoviedb.org/3/movie/'"
   ]
  },
  {
   "cell_type": "code",
   "execution_count": 24,
   "metadata": {},
   "outputs": [
    {
     "name": "stdout",
     "output_type": "stream",
     "text": [
      "https://api.themoviedb.org/3/movie/429203?api_key=09788a07dd795fd26ca2bc24e9a61cb0\n",
      "https://api.themoviedb.org/3/movie/299536?api_key=09788a07dd795fd26ca2bc24e9a61cb0\n"
     ]
    }
   ],
   "source": [
    "# Original Code to pull movie details\n",
    "movie_details = []\n",
    "for movie in movie_ids[:2]:\n",
    "    api_call = api_url + str(movie) + config.api_key\n",
    "    print(api_call)\n",
    "    response = requests.get(api_call)\n",
    "    result = response.json()\n",
    "    movie_details.append(result)"
   ]
  },
  {
   "cell_type": "code",
   "execution_count": 25,
   "metadata": {},
   "outputs": [],
   "source": [
    "# Code to automate the pull process"
   ]
  },
  {
   "cell_type": "code",
   "execution_count": null,
   "metadata": {},
   "outputs": [],
   "source": [
    "for movie in movie_ids[:2]:\n",
    "    api_call = api_url + str(movie) + config.api_key\n",
    "    response = requests.get(api_call)\n",
    "    result = response.json()\n",
    "    movie_details.append(result)"
   ]
  },
  {
   "cell_type": "code",
   "execution_count": 23,
   "metadata": {},
   "outputs": [
    {
     "data": {
      "text/plain": [
       "[{'adult': False,\n",
       "  'backdrop_path': '/6X2YjjYcs8XyZRDmJAHNDlls7L4.jpg',\n",
       "  'belongs_to_collection': None,\n",
       "  'budget': 0,\n",
       "  'genres': [{'id': 35, 'name': 'Comedy'},\n",
       "   {'id': 80, 'name': 'Crime'},\n",
       "   {'id': 18, 'name': 'Drama'}],\n",
       "  'homepage': 'http://www.foxsearchlight.com/theoldmanandthegun',\n",
       "  'id': 429203,\n",
       "  'imdb_id': 'tt2837574',\n",
       "  'original_language': 'en',\n",
       "  'original_title': 'The Old Man & the Gun',\n",
       "  'overview': 'The true story of Forrest Tucker, from his audacious escape from San Quentin at the age of 70 to an unprecedented string of heists that confounded authorities and enchanted the public. Wrapped up in the pursuit are a detective, who becomes captivated with Forrest’s commitment to his craft, and a woman, who loves him in spite of his chosen profession.',\n",
       "  'popularity': 261.026,\n",
       "  'poster_path': '/a4BfxRK8dBgbQqbRxPs8kmLd8LG.jpg',\n",
       "  'production_companies': [{'id': 51513,\n",
       "    'logo_path': '/eWhUrhDH1DapiMCnK7I9f5HPDjd.png',\n",
       "    'name': 'Condé Nast Entertainment',\n",
       "    'origin_country': 'US'},\n",
       "   {'id': 1205,\n",
       "    'logo_path': None,\n",
       "    'name': 'Endgame Entertainment',\n",
       "    'origin_country': 'US'},\n",
       "   {'id': 2870,\n",
       "    'logo_path': None,\n",
       "    'name': 'Identity Films',\n",
       "    'origin_country': 'US'},\n",
       "   {'id': 14634,\n",
       "    'logo_path': None,\n",
       "    'name': 'Sailor Bear',\n",
       "    'origin_country': 'US'},\n",
       "   {'id': 316,\n",
       "    'logo_path': None,\n",
       "    'name': 'Wildwood Enterprises',\n",
       "    'origin_country': 'US'},\n",
       "   {'id': 43,\n",
       "    'logo_path': '/4RgIPr55kBakgupWkzdDxqXJEqr.png',\n",
       "    'name': 'Fox Searchlight Pictures',\n",
       "    'origin_country': 'US'}],\n",
       "  'production_countries': [{'iso_3166_1': 'US',\n",
       "    'name': 'United States of America'}],\n",
       "  'release_date': '2018-09-27',\n",
       "  'revenue': 11277120,\n",
       "  'runtime': 93,\n",
       "  'spoken_languages': [{'iso_639_1': 'en', 'name': 'English'}],\n",
       "  'status': 'Released',\n",
       "  'tagline': 'This story is mostly true.',\n",
       "  'title': 'The Old Man & the Gun',\n",
       "  'video': False,\n",
       "  'vote_average': 6.4,\n",
       "  'vote_count': 514},\n",
       " {'adult': False,\n",
       "  'backdrop_path': '/bOGkgRGdhrBYJSLpXaxhXVstddV.jpg',\n",
       "  'belongs_to_collection': {'id': 86311,\n",
       "   'name': 'The Avengers Collection',\n",
       "   'poster_path': '/yFSIUVTCvgYrpalUktulvk3Gi5Y.jpg',\n",
       "   'backdrop_path': '/zuW6fOiusv4X9nnW3paHGfXcSll.jpg'},\n",
       "  'budget': 300000000,\n",
       "  'genres': [{'id': 12, 'name': 'Adventure'},\n",
       "   {'id': 28, 'name': 'Action'},\n",
       "   {'id': 878, 'name': 'Science Fiction'}],\n",
       "  'homepage': 'http://marvel.com/movies/movie/223/avengers_infinity_war_part_1',\n",
       "  'id': 299536,\n",
       "  'imdb_id': 'tt4154756',\n",
       "  'original_language': 'en',\n",
       "  'original_title': 'Avengers: Infinity War',\n",
       "  'overview': 'As the Avengers and their allies have continued to protect the world from threats too large for any one hero to handle, a new danger has emerged from the cosmic shadows: Thanos. A despot of intergalactic infamy, his goal is to collect all six Infinity Stones, artifacts of unimaginable power, and use them to inflict his twisted will on all of reality. Everything the Avengers have fought for has led up to this moment - the fate of Earth and existence itself has never been more uncertain.',\n",
       "  'popularity': 67.449,\n",
       "  'poster_path': '/7WsyChQLEftFiDOVTGkv3hFpyyt.jpg',\n",
       "  'production_companies': [{'id': 420,\n",
       "    'logo_path': '/hUzeosd33nzE5MCNsZxCGEKTXaQ.png',\n",
       "    'name': 'Marvel Studios',\n",
       "    'origin_country': 'US'}],\n",
       "  'production_countries': [{'iso_3166_1': 'US',\n",
       "    'name': 'United States of America'}],\n",
       "  'release_date': '2018-04-25',\n",
       "  'revenue': 2046239637,\n",
       "  'runtime': 149,\n",
       "  'spoken_languages': [{'iso_639_1': 'en', 'name': 'English'}],\n",
       "  'status': 'Released',\n",
       "  'tagline': 'An entire universe. Once and for all.',\n",
       "  'title': 'Avengers: Infinity War',\n",
       "  'video': False,\n",
       "  'vote_average': 8.3,\n",
       "  'vote_count': 15208}]"
      ]
     },
     "execution_count": 23,
     "metadata": {},
     "output_type": "execute_result"
    }
   ],
   "source": [
    "movie_details"
   ]
  },
  {
   "cell_type": "code",
   "execution_count": null,
   "metadata": {},
   "outputs": [],
   "source": []
  }
 ],
 "metadata": {
  "kernelspec": {
   "display_name": "Python 3",
   "language": "python",
   "name": "python3"
  },
  "language_info": {
   "codemirror_mode": {
    "name": "ipython",
    "version": 3
   },
   "file_extension": ".py",
   "mimetype": "text/x-python",
   "name": "python",
   "nbconvert_exporter": "python",
   "pygments_lexer": "ipython3",
   "version": "3.7.3"
  }
 },
 "nbformat": 4,
 "nbformat_minor": 2
}
